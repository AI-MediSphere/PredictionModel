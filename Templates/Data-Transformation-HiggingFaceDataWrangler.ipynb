{
  "nbformat": 4,
  "nbformat_minor": 0,
  "metadata": {
    "colab": {
      "provenance": []
    },
    "kernelspec": {
      "name": "python3",
      "display_name": "Python 3"
    },
    "language_info": {
      "name": "python"
    }
  },
  "cells": [
    {
      "cell_type": "code",
      "execution_count": null,
      "metadata": {
        "id": "h34tzT_d6j1Q"
      },
      "outputs": [],
      "source": []
    },
    {
      "cell_type": "markdown",
      "source": [
        "Detailed code that covers data transformation using Amazon SageMaker Data Wrangler, model training, deploying the Hugging Face model to a SageMaker endpoint, setting up API Gateway with AWS Lambda to expose the endpoint, and calling the OpenAI API to feed the data:"
      ],
      "metadata": {
        "id": "9GaKzZ7T6m0P"
      }
    },
    {
      "cell_type": "markdown",
      "source": [
        "Data Transformation with SageMaker Data Wrangler:"
      ],
      "metadata": {
        "id": "ZkfeCeGV6wom"
      }
    },
    {
      "cell_type": "code",
      "source": [
        "import sagemaker\n",
        "\n",
        "sagemaker_session = sagemaker.Session()\n",
        "role = sagemaker.get_execution_role()\n",
        "\n",
        "# Step 1: Import Data into SageMaker Data Wrangler\n",
        "s3_input_data = 's3://your-bucket/input.csv'\n",
        "data_wrangler_input = sagemaker.wrangler.CSV(s3_input_data)\n",
        "\n",
        "data_wrangler_project_uri = 's3://your-bucket/data_wrangler_project'\n",
        "data_wrangler_project = sagemaker.wrangler.Project(\n",
        "    sagemaker_session=sagemaker_session,\n",
        "    project_id='cardiovascularpredic',\n",
        "    project_arn='arn:aws:sagemaker:ap-south-1:xxxxxxxx:project/cardiovascularpredic',\n",
        "    role=role,\n",
        "    data=data_wrangler_input,\n",
        ")\n",
        "\n",
        "data_wrangler_project.save(data_wrangler_project_uri)\n",
        "\n",
        "# Step 2: Start SageMaker Processing Job to Transform Data\n",
        "data_wrangler_processor = data_wrangler_project.process(\n",
        "    output_name='s3://cardiovascularpredict/output/',\n",
        "    output_format='csv',\n",
        "    description='Data transformation job using SageMaker Data Wrangler',\n",
        "    instance_count=1,\n",
        "    instance_type='ml.m5.large',\n",
        ")\n",
        "\n",
        "data_wrangler_processor.run()\n",
        "\n",
        "data_transformed_output = data_wrangler_processor.outputs[0].destination\n"
      ],
      "metadata": {
        "id": "xoLJ6SLJ6xhb"
      },
      "execution_count": null,
      "outputs": []
    },
    {
      "cell_type": "markdown",
      "source": [
        "Model Training and Deployment with Hugging Face:"
      ],
      "metadata": {
        "id": "jFqiU6146z-b"
      }
    },
    {
      "cell_type": "code",
      "source": [
        "from sagemaker.huggingface import HuggingFace\n",
        "\n",
        "# Step 3: Train the Hugging Face model\n",
        "output_dir = 's3://cardiovascularpredict/input.csv'\n",
        "hf_estimator = HuggingFace(\n",
        "    role=role,\n",
        "    instance_count=1,\n",
        "    instance_type='ml.p3.2xlarge',\n",
        "    transformers_version='4.10',\n",
        "    pytorch_version='1.9',\n",
        "    py_version='py36',\n",
        "    output_path=output_dir,\n",
        "    base_job_name='huggingface-cardio-model-training',\n",
        "    hyperparameters={\n",
        "        'epochs': 3,\n",
        "        'train_batch_size': 32,\n",
        "        'model_name': 'distilbert-base-uncased',\n",
        "    },\n",
        ")\n",
        "\n",
        "training_data = sagemaker.inputs.TrainingInput(\n",
        "    data_channel=data_transformed_output,\n",
        "    content_type='text/csv',\n",
        ")\n",
        "\n",
        "hf_estimator.fit(inputs={'train': training_data})\n",
        "\n",
        "# Step 4: Deploy the Hugging Face model to SageMaker endpoint\n",
        "huggingface_predictor = hf_estimator.deploy(\n",
        "    initial_instance_count=1,\n",
        "    instance_type='ml.m5.large',\n",
        "    serializer=sagemaker.serializers.JSONSerializer(),\n",
        "    deserializer=sagemaker.deserializers.JSONDeserializer(),\n",
        ")\n",
        "\n",
        "endpoint_name = huggingface_predictor.endpoint_name\n"
      ],
      "metadata": {
        "id": "cwyiakYC620_"
      },
      "execution_count": null,
      "outputs": []
    },
    {
      "cell_type": "markdown",
      "source": [
        "Setting up API Gateway with AWS Lambda:"
      ],
      "metadata": {
        "id": "0qnjR_Qg64ti"
      }
    },
    {
      "cell_type": "code",
      "source": [
        "import boto3\n",
        "\n",
        "# Step 5: Create an API Gateway REST API\n",
        "api_gateway_client = boto3.client('apigateway')\n",
        "\n",
        "rest_api_id = api_gateway_client.create_rest_api(\n",
        "    name='CardiovascularPredictionAPI',\n",
        "    description='API for cardiovascular disease prediction',\n",
        ")['id']\n",
        "\n",
        "# Step 6: Create a new resource for the API\n",
        "resource_id = api_gateway_client.create_resource(\n",
        "    restApiId=rest_api_id,\n",
        "    parentId=rest_api_id,\n",
        "    pathPart='predict',\n",
        ")['id']\n",
        "\n",
        "# Step 7: Create a POST method for the resource\n",
        "api_gateway_client.put_method(\n",
        "    restApiId=rest_api_id,\n",
        "    resourceId=resource_id,\n",
        "    httpMethod='POST',\n"
      ],
      "metadata": {
        "id": "DtP7fi-a67iV"
      },
      "execution_count": null,
      "outputs": []
    },
    {
      "cell_type": "markdown",
      "source": [],
      "metadata": {
        "id": "oT5XKEni69ef"
      }
    }
  ]
}