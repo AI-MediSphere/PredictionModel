{
  "nbformat": 4,
  "nbformat_minor": 0,
  "metadata": {
    "colab": {
      "provenance": []
    },
    "kernelspec": {
      "name": "python3",
      "display_name": "Python 3"
    },
    "language_info": {
      "name": "python"
    }
  },
  "cells": [
    {
      "cell_type": "code",
      "execution_count": null,
      "metadata": {
        "id": "kq8YRL9v2NGg"
      },
      "outputs": [],
      "source": []
    },
    {
      "cell_type": "markdown",
      "source": [
        "Install required libraries\n",
        "\n",
        "```\n",
        "!pip install sagemaker\n",
        "!pip install transformers\n",
        "\n",
        "```\n",
        "\n",
        "Importing necessary libraries:\n",
        "\n",
        "\n",
        "```\n",
        "import sagemaker\n",
        "from sagemaker import get_execution_role\n",
        "from sagemaker.transformer import Transformer\n",
        "from transformers import AutoTokenizer\n",
        "\n",
        "import boto3\n",
        "import pandas as pd\n",
        "\n",
        "```\n",
        "\n",
        "Set up SageMaker session and role:\n",
        "\n",
        "\n",
        "\n",
        "```\n",
        "sagemaker_session = sagemaker.Session()\n",
        "role = get_execution_role()\n",
        "\n",
        "```\n",
        "Specify the Hugging Face model:\n",
        "\n",
        "\n",
        "```\n",
        "model_name = 'cardiovascular-disease-prediction-model'\n",
        "\n",
        "```\n",
        "Create an instance of the Hugging Face model:\n",
        "\n",
        "\n",
        "\n"
      ],
      "metadata": {
        "id": "W-Jkezuc2Wiz"
      }
    },
    {
      "cell_type": "code",
      "source": [
        "hf_model = sagemaker.huggingface.HuggingFaceModel(\n",
        "    model_data=model_name,\n",
        "    role=role,\n",
        "    transformers_version='4.10',\n",
        "    pytorch_version='1.9',\n",
        "    py_version='py3',\n",
        ")"
      ],
      "metadata": {
        "id": "F7vE8G1_2wxt"
      },
      "execution_count": null,
      "outputs": []
    },
    {
      "cell_type": "markdown",
      "source": [
        "Deploy the model:"
      ],
      "metadata": {
        "id": "NpkGUB5Y21ry"
      }
    },
    {
      "cell_type": "code",
      "source": [
        "predictor = hf_model.deploy(\n",
        "    initial_instance_count=1,\n",
        "    instance_type='ml.m5.large',\n",
        ")"
      ],
      "metadata": {
        "id": "Z6bpwI3K24Sd"
      },
      "execution_count": null,
      "outputs": []
    },
    {
      "cell_type": "markdown",
      "source": [
        "Prepare input data:"
      ],
      "metadata": {
        "id": "fTFx86oZ28Kq"
      }
    },
    {
      "cell_type": "code",
      "source": [
        "data = pd.read_csv('input.csv')\n",
        "input_text = data['text_column'].tolist()\n"
      ],
      "metadata": {
        "id": "udYET_gx2-qz"
      },
      "execution_count": null,
      "outputs": []
    },
    {
      "cell_type": "markdown",
      "source": [
        "Tokenize input data:"
      ],
      "metadata": {
        "id": "Hp3kWail3D_b"
      }
    },
    {
      "cell_type": "code",
      "source": [
        "tokenizer = AutoTokenizer.from_pretrained(model_name)\n",
        "tokenized_input = tokenizer(\n",
        "    input_text,\n",
        "    padding=True,\n",
        "    truncation=True,\n",
        "    max_length=128,\n",
        "    return_tensors='pt',\n",
        ")\n"
      ],
      "metadata": {
        "id": "tdetbK2T3E5u"
      },
      "execution_count": null,
      "outputs": []
    },
    {
      "cell_type": "markdown",
      "source": [
        "Invoke model for predictions:"
      ],
      "metadata": {
        "id": "jbwcHGXJ3HTJ"
      }
    },
    {
      "cell_type": "code",
      "source": [
        "predictions = predictor.predict(tokenized_input['input_ids'].numpy())\n"
      ],
      "metadata": {
        "id": "YmN0OUmU3LwC"
      },
      "execution_count": null,
      "outputs": []
    },
    {
      "cell_type": "markdown",
      "source": [
        "Process predictions:"
      ],
      "metadata": {
        "id": "KMxNdxkr3Nbm"
      }
    },
    {
      "cell_type": "code",
      "source": [
        "predicted_labels = [predicted['label'] for predicted in predictions]\n",
        "data['predicted_label'] = predicted_labels\n"
      ],
      "metadata": {
        "id": "4UOaaEBy3Py6"
      },
      "execution_count": null,
      "outputs": []
    },
    {
      "cell_type": "markdown",
      "source": [
        "Save output:"
      ],
      "metadata": {
        "id": "JldmtKI13TnQ"
      }
    },
    {
      "cell_type": "code",
      "source": [
        "data.to_csv('output.csv', index=False)\n"
      ],
      "metadata": {
        "id": "6F0mdYWu3UYX"
      },
      "execution_count": null,
      "outputs": []
    }
  ]
}